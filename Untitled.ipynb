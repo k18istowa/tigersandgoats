{
 "cells": [
  {
   "cell_type": "code",
   "execution_count": 2,
   "id": "8af985dc",
   "metadata": {},
   "outputs": [],
   "source": [
    "import numpy as np\n",
    "import numpy.random as npr\n",
    "\n",
    "import keras\n",
    "from keras import models\n",
    "from keras import layers\n",
    "\n",
    "import tensorflow as tf"
   ]
  },
  {
   "cell_type": "code",
   "execution_count": 3,
   "id": "f08785c2",
   "metadata": {},
   "outputs": [],
   "source": [
    "hg = __import__('game-fall23')"
   ]
  },
  {
   "cell_type": "code",
   "execution_count": null,
   "id": "e909e909",
   "metadata": {},
   "outputs": [],
   "source": [
    "game = hg.Game()\n",
    "board = hg.Board(graphics=True)\n",
    "game.attachboard(board)"
   ]
  },
  {
   "cell_type": "code",
   "execution_count": null,
   "id": "8045604c",
   "metadata": {},
   "outputs": [],
   "source": [
    "tiger = hg.greedyTiger(game)\n",
    "ngoat = hg.neuralGoat(game)\n",
    "game.addplayers(tiger, ngoat)"
   ]
  },
  {
   "cell_type": "code",
   "execution_count": null,
   "id": "69529c8c",
   "metadata": {},
   "outputs": [],
   "source": [
    "game.gamelogic()\n"
   ]
  },
  {
   "cell_type": "code",
   "execution_count": 6,
   "id": "bfe74cee",
   "metadata": {},
   "outputs": [
    {
     "name": "stdout",
     "output_type": "stream",
     "text": [
      "15\n",
      "12\n",
      "12\n",
      "15\n",
      "13\n"
     ]
    }
   ],
   "source": [
    "import itertools\n",
    "\n",
    "for num in range(5):\n",
    "    tempBoard = hg.Board(graphics = False)\n",
    "    numtigers = 3\n",
    "    numgoats = npr.choice(range(12,16))\n",
    "    randompositionorder = list(itertools.permutations(hg.Board.addresslist))\n",
    "    "
   ]
  },
  {
   "cell_type": "markdown",
   "id": "5166cca3",
   "metadata": {},
   "source": []
  },
  {
   "cell_type": "code",
   "execution_count": null,
   "id": "412f635a",
   "metadata": {},
   "outputs": [],
   "source": []
  }
 ],
 "metadata": {
  "kernelspec": {
   "display_name": "Python 3",
   "language": "python",
   "name": "python3"
  },
  "language_info": {
   "codemirror_mode": {
    "name": "ipython",
    "version": 3
   },
   "file_extension": ".py",
   "mimetype": "text/x-python",
   "name": "python",
   "nbconvert_exporter": "python",
   "pygments_lexer": "ipython3",
   "version": "3.8.5"
  }
 },
 "nbformat": 4,
 "nbformat_minor": 5
}
