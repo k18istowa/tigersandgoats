{
 "cells": [
  {
   "cell_type": "code",
   "execution_count": 2,
   "id": "8af985dc",
   "metadata": {},
   "outputs": [],
   "source": [
    "import numpy as np\n",
    "import numpy.random as npr\n",
    "\n",
    "import keras\n",
    "from keras import models\n",
    "from keras import layers\n",
    "\n",
    "import tensorflow as tf"
   ]
  },
  {
   "cell_type": "code",
   "execution_count": 3,
   "id": "f08785c2",
   "metadata": {},
   "outputs": [],
   "source": [
    "hg = __import__('game-fall23')"
   ]
  },
  {
   "cell_type": "code",
   "execution_count": 4,
   "id": "e909e909",
   "metadata": {},
   "outputs": [
    {
     "name": "stdout",
     "output_type": "stream",
     "text": [
      "game.state.whoseturn: Tiger\n",
      "Move possible for b0\n",
      "game.state.whoseturn: Goat\n"
     ]
    }
   ],
   "source": [
    "game = hg.Game()\n",
    "board = hg.Board(graphics=True)\n",
    "game.attachboard(board)"
   ]
  },
  {
   "cell_type": "code",
   "execution_count": 5,
   "id": "8045604c",
   "metadata": {},
   "outputs": [],
   "source": [
    "tiger = hg.greedyTiger(game)\n",
    "ngoat = hg.neuralGoat(game)\n",
    "game.addplayers(tiger, ngoat)"
   ]
  },
  {
   "cell_type": "code",
   "execution_count": 1,
   "id": "69529c8c",
   "metadata": {},
   "outputs": [
    {
     "ename": "NameError",
     "evalue": "name 'game' is not defined",
     "output_type": "error",
     "traceback": [
      "\u001b[1;31m---------------------------------------------------------------------------\u001b[0m",
      "\u001b[1;31mNameError\u001b[0m                                 Traceback (most recent call last)",
      "\u001b[1;32m<ipython-input-1-3e43b7d27a40>\u001b[0m in \u001b[0;36m<module>\u001b[1;34m\u001b[0m\n\u001b[1;32m----> 1\u001b[1;33m \u001b[0mgame\u001b[0m\u001b[1;33m.\u001b[0m\u001b[0mgamelogic\u001b[0m\u001b[1;33m(\u001b[0m\u001b[1;33m)\u001b[0m\u001b[1;33m\u001b[0m\u001b[1;33m\u001b[0m\u001b[0m\n\u001b[0m",
      "\u001b[1;31mNameError\u001b[0m: name 'game' is not defined"
     ]
    }
   ],
   "source": [
    "game.gamelogic()\n"
   ]
  },
  {
   "cell_type": "code",
   "execution_count": 6,
   "id": "90585a6b",
   "metadata": {},
   "outputs": [
    {
     "name": "stdout",
     "output_type": "stream",
     "text": [
      "['a1', 'a2', 'a3', 'b0', 'b1', 'b2', 'b3', 'b4', 'c1', 'c2', 'c3', 'c4', 'd1', 'd2', 'd3', 'd4', 'e1', 'e2', 'e3', 'e4', 'f1', 'f2', 'f3']\n",
      "['e4' 'f1' 'b3' 'c2' 'e1' 'd1' 'd2' 'b4' 'd4' 'f3' 'a2' 'e2' 'a1' 'b0'\n",
      " 'b2' 'a3' 'c3' 'c1' 'd3' 'e3' 'c4' 'b1' 'f2']\n"
     ]
    }
   ],
   "source": [
    "tempBoard = hg.Board(graphics = False)\n",
    "print(tempBoard.addresslist)\n",
    "randompositionorder = npr.choice(tempBoard.addresslist, size = (23,), replace=False)\n",
    "print(randompositionorder)    "
   ]
  },
  {
   "cell_type": "code",
   "execution_count": 7,
   "id": "bfe74cee",
   "metadata": {},
   "outputs": [],
   "source": [
    "train_size = 50000\n",
    "\n",
    "training = np.zeros((train_size,24*3))\n",
    "target = []\n",
    "for num in range(train_size):\n",
    "    tempBoard = hg.Board(graphics = False)\n",
    "    numtigers = 3\n",
    "    numgoats = npr.choice(range(12,16))\n",
    "    randompositionorder = npr.choice(tempBoard.addresslist,size=(23,),replace=False)\n",
    "    \n",
    "    for numtiger in range(numtigers):\n",
    "        tiger = hg.Tiger(tempBoard, numtiger)\n",
    "        tiger.place(randompositionorder[numtiger])\n",
    "    \n",
    "    for numgoat in range(numgoats):\n",
    "        goat = hg.Goat(tempBoard,numgoat)\n",
    "        goat.place(randompositionorder[numgoat+3])\n",
    "     \n",
    "    matrix = hg.Game.State.board2matrix(game,tempBoard)\n",
    "    value = hg.neuralGoat.valuefunc(ngoat, matrix)\n",
    "    place = npr.choice(range(2))\n",
    "    if numgoats == 15:\n",
    "        place = 0\n",
    "    if place:\n",
    "        numgoatsplaced = npr.choice(range(numgoats,15))\n",
    "    else:\n",
    "        numgoatsplaced = 15 \n",
    "     \n",
    "    if place:#in the place phase \n",
    "        place=[1,0,0]\n",
    "    else:\n",
    "        place=[0,1,0]\n",
    "        \n",
    "    place[2]=(numgoatsplaced-numgoats)\n",
    "    place = np.array(place).reshape(1,3)\n",
    "    state = np.vstack((matrix,place)).ravel()\n",
    "    training[num] = state\n",
    "    target.append(value)\n"
   ]
  },
  {
   "cell_type": "code",
   "execution_count": 8,
   "id": "5ba304ec",
   "metadata": {},
   "outputs": [
    {
     "name": "stdout",
     "output_type": "stream",
     "text": [
      "(50000, 72) (50000, 1)\n",
      "204.76640682967036 -238.35304674060663\n"
     ]
    }
   ],
   "source": [
    "training = training.astype(np.float32)\n",
    "\n",
    "target = np.array(target).reshape(train_size,1)\n",
    "print(training.shape, target.shape)\n",
    "print(np.max(target), np.min(target))\n"
   ]
  },
  {
   "cell_type": "code",
   "execution_count": 9,
   "id": "412f635a",
   "metadata": {},
   "outputs": [
    {
     "name": "stdout",
     "output_type": "stream",
     "text": [
      "Model: \"sequential\"\n",
      "_________________________________________________________________\n",
      "Layer (type)                 Output Shape              Param #   \n",
      "=================================================================\n",
      "input_layer (Dense)          (None, 200)               14600     \n",
      "_________________________________________________________________\n",
      "hidden_layer_1 (Dense)       (None, 150)               30150     \n",
      "_________________________________________________________________\n",
      "hidden_layer_2 (Dense)       (None, 75)                11325     \n",
      "_________________________________________________________________\n",
      "output_layer (Dense)         (None, 1)                 76        \n",
      "=================================================================\n",
      "Total params: 56,151\n",
      "Trainable params: 56,151\n",
      "Non-trainable params: 0\n",
      "_________________________________________________________________\n"
     ]
    }
   ],
   "source": [
    "from sklearn.utils import shuffle\n",
    "from sklearn.model_selection import train_test_split\n",
    "from keras.optimizers import SGD, Nadam\n",
    "\n",
    "\n",
    "training, target = shuffle(training, target)\n",
    "\n",
    "training_train, training_test, target_train, target_test = train_test_split(training, target, test_size=0.15, random_state=0)\n",
    "\n",
    "initializer = tf.keras.initializers.RandomNormal(stddev = 1)\n",
    "\n",
    "model = keras.Sequential()\n",
    "model.add(keras.Input(shape=(24*3,)))\n",
    "model.add(layers.Dense(200, \n",
    "                       activation=\"relu\", \n",
    "                       name=\"input_layer\",\n",
    "                       kernel_regularizer=tf.keras.regularizers.L1(.5),\n",
    "                       kernel_initializer=tf.keras.initializers.RandomNormal(stddev= .5)))\n",
    "model.add(layers.Dense(150,\n",
    "                       activation=\"relu\",\n",
    "                       name=\"hidden_layer_1\",\n",
    "                       kernel_initializer=tf.keras.initializers.RandomNormal(stddev = .5)))\n",
    "model.add(layers.Dense(75,\n",
    "                       activation=\"relu\",\n",
    "                       name=\"hidden_layer_2\",\n",
    "                       kernel_initializer=tf.keras.initializers.RandomNormal(stddev = .5)))\n",
    "model.add(layers.Dense(1,\n",
    "                       name=\"output_layer\",\n",
    "                       kernel_initializer=tf.keras.initializers.RandomNormal(stddev = .5)))\n",
    "model.summary()\n",
    "\n",
    "\n"
   ]
  },
  {
   "cell_type": "code",
   "execution_count": 10,
   "id": "4beef1d1",
   "metadata": {},
   "outputs": [
    {
     "name": "stdout",
     "output_type": "stream",
     "text": [
      "Epoch 1/100\n",
      "4250/4250 [==============================] - 2s 459us/step - loss: 3061.8279\n",
      "Epoch 2/100\n",
      "4250/4250 [==============================] - 2s 439us/step - loss: 1781.3328\n",
      "Epoch 3/100\n",
      "4250/4250 [==============================] - 2s 441us/step - loss: 1341.9508\n",
      "Epoch 4/100\n",
      "4250/4250 [==============================] - 2s 443us/step - loss: 1113.7843\n",
      "Epoch 5/100\n",
      "4250/4250 [==============================] - 2s 443us/step - loss: 977.9525\n",
      "Epoch 6/100\n",
      "4250/4250 [==============================] - 2s 450us/step - loss: 886.4914\n",
      "Epoch 7/100\n",
      "4250/4250 [==============================] - 2s 447us/step - loss: 813.6466\n",
      "Epoch 8/100\n",
      "4250/4250 [==============================] - 2s 450us/step - loss: 762.6275\n",
      "Epoch 9/100\n",
      "4250/4250 [==============================] - 2s 449us/step - loss: 723.1901\n",
      "Epoch 10/100\n",
      "4250/4250 [==============================] - 2s 448us/step - loss: 694.1716\n",
      "Epoch 11/100\n",
      "4250/4250 [==============================] - 2s 449us/step - loss: 666.2982\n",
      "Epoch 12/100\n",
      "4250/4250 [==============================] - 2s 447us/step - loss: 648.1659\n",
      "Epoch 13/100\n",
      "4250/4250 [==============================] - 2s 449us/step - loss: 627.9891\n",
      "Epoch 14/100\n",
      "4250/4250 [==============================] - 2s 454us/step - loss: 613.7147\n",
      "Epoch 15/100\n",
      "4250/4250 [==============================] - 2s 449us/step - loss: 602.1388\n",
      "Epoch 16/100\n",
      "4250/4250 [==============================] - 2s 452us/step - loss: 595.1611\n",
      "Epoch 17/100\n",
      "4250/4250 [==============================] - 2s 585us/step - loss: 587.8127\n",
      "Epoch 18/100\n",
      "4250/4250 [==============================] - 3s 618us/step - loss: 584.6951\n",
      "Epoch 19/100\n",
      "4250/4250 [==============================] - 2s 572us/step - loss: 577.9315\n",
      "Epoch 20/100\n",
      "4250/4250 [==============================] - 2s 484us/step - loss: 573.6662\n",
      "Epoch 21/100\n",
      "4250/4250 [==============================] - 2s 479us/step - loss: 571.1962\n",
      "Epoch 22/100\n",
      "4250/4250 [==============================] - 2s 471us/step - loss: 569.5963\n",
      "Epoch 23/100\n",
      "4250/4250 [==============================] - 2s 475us/step - loss: 564.9760\n",
      "Epoch 24/100\n",
      "4250/4250 [==============================] - 2s 490us/step - loss: 561.9670\n",
      "Epoch 25/100\n",
      "4250/4250 [==============================] - 2s 473us/step - loss: 560.0914\n",
      "Epoch 26/100\n",
      "4250/4250 [==============================] - 2s 478us/step - loss: 555.7088\n",
      "Epoch 27/100\n",
      "4250/4250 [==============================] - 2s 475us/step - loss: 557.4445\n",
      "Epoch 28/100\n",
      "4250/4250 [==============================] - 2s 479us/step - loss: 553.6844\n",
      "Epoch 29/100\n",
      "4250/4250 [==============================] - 2s 506us/step - loss: 551.1613\n",
      "Epoch 30/100\n",
      "4250/4250 [==============================] - 2s 481us/step - loss: 552.1257\n",
      "Epoch 31/100\n",
      "4250/4250 [==============================] - 2s 465us/step - loss: 550.7198\n",
      "Epoch 32/100\n",
      "4250/4250 [==============================] - 2s 468us/step - loss: 547.9943\n",
      "Epoch 33/100\n",
      "4250/4250 [==============================] - 3s 635us/step - loss: 545.3176 0s - loss\n",
      "Epoch 34/100\n",
      "4250/4250 [==============================] - 2s 537us/step - loss: 541.9814\n",
      "Epoch 35/100\n",
      "4250/4250 [==============================] - 3s 599us/step - loss: 538.4318\n",
      "Epoch 36/100\n",
      "4250/4250 [==============================] - 2s 547us/step - loss: 543.9588\n",
      "Epoch 37/100\n",
      "4250/4250 [==============================] - 2s 563us/step - loss: 544.3687\n",
      "Epoch 38/100\n",
      "4250/4250 [==============================] - 2s 479us/step - loss: 541.0215\n",
      "Epoch 39/100\n",
      "4250/4250 [==============================] - 2s 432us/step - loss: 544.5618\n",
      "Epoch 40/100\n",
      "4250/4250 [==============================] - 2s 430us/step - loss: 547.5175\n",
      "Epoch 41/100\n",
      "4250/4250 [==============================] - 2s 446us/step - loss: 546.3445\n",
      "Epoch 42/100\n",
      "4250/4250 [==============================] - 2s 567us/step - loss: 548.4954\n",
      "Epoch 43/100\n",
      "4250/4250 [==============================] - 2s 528us/step - loss: 554.8211\n",
      "Epoch 44/100\n",
      "4250/4250 [==============================] - 2s 492us/step - loss: 557.9057\n",
      "Epoch 45/100\n",
      "4250/4250 [==============================] - 2s 460us/step - loss: 560.2344\n",
      "Epoch 46/100\n",
      "4250/4250 [==============================] - 2s 432us/step - loss: 563.8180\n",
      "Epoch 47/100\n",
      "4250/4250 [==============================] - 2s 432us/step - loss: 565.8555\n",
      "Epoch 48/100\n",
      "4250/4250 [==============================] - 2s 466us/step - loss: 569.4731\n",
      "Epoch 49/100\n",
      "4250/4250 [==============================] - 2s 523us/step - loss: 570.7916\n",
      "Epoch 50/100\n",
      "4250/4250 [==============================] - 2s 498us/step - loss: 575.9011\n",
      "Epoch 51/100\n",
      "4250/4250 [==============================] - 2s 482us/step - loss: 576.3770\n",
      "Epoch 52/100\n",
      "4250/4250 [==============================] - 2s 465us/step - loss: 574.9987\n",
      "Epoch 53/100\n",
      "4250/4250 [==============================] - 2s 431us/step - loss: 579.5626\n",
      "Epoch 54/100\n",
      "4250/4250 [==============================] - 2s 431us/step - loss: 579.0151\n",
      "Epoch 55/100\n",
      "4250/4250 [==============================] - 2s 517us/step - loss: 578.2566\n",
      "Epoch 56/100\n",
      "4250/4250 [==============================] - 3s 638us/step - loss: 577.9481\n",
      "Epoch 57/100\n",
      "4250/4250 [==============================] - 2s 435us/step - loss: 582.4904\n",
      "Epoch 58/100\n",
      "4250/4250 [==============================] - 2s 434us/step - loss: 585.4321\n",
      "Epoch 59/100\n",
      "4250/4250 [==============================] - 2s 430us/step - loss: 584.5121\n",
      "Epoch 60/100\n",
      "4250/4250 [==============================] - 2s 432us/step - loss: 586.3540\n",
      "Epoch 61/100\n",
      "4250/4250 [==============================] - 2s 437us/step - loss: 588.4060\n",
      "Epoch 62/100\n",
      "4250/4250 [==============================] - 2s 432us/step - loss: 587.1662\n",
      "Epoch 63/100\n",
      "4250/4250 [==============================] - 2s 435us/step - loss: 595.3854\n",
      "Epoch 64/100\n",
      "4250/4250 [==============================] - 2s 498us/step - loss: 595.6072\n",
      "Epoch 65/100\n",
      "4250/4250 [==============================] - 2s 491us/step - loss: 596.9034\n",
      "Epoch 66/100\n",
      "4250/4250 [==============================] - 2s 473us/step - loss: 594.4524\n",
      "Epoch 67/100\n",
      "4250/4250 [==============================] - 2s 494us/step - loss: 597.8508\n",
      "Epoch 68/100\n",
      "4250/4250 [==============================] - 2s 495us/step - loss: 598.6884\n",
      "Epoch 69/100\n",
      "4250/4250 [==============================] - 2s 516us/step - loss: 599.4420\n",
      "Epoch 70/100\n",
      "4250/4250 [==============================] - 2s 494us/step - loss: 600.1918\n",
      "Epoch 71/100\n",
      "4250/4250 [==============================] - 2s 438us/step - loss: 599.6505\n",
      "Epoch 72/100\n",
      "4250/4250 [==============================] - 2s 462us/step - loss: 602.8455\n",
      "Epoch 73/100\n",
      "4250/4250 [==============================] - 2s 478us/step - loss: 604.6512\n",
      "Epoch 74/100\n",
      "4250/4250 [==============================] - 2s 499us/step - loss: 600.7683\n",
      "Epoch 75/100\n",
      "4250/4250 [==============================] - 2s 505us/step - loss: 601.3594\n",
      "Epoch 76/100\n",
      "4250/4250 [==============================] - 2s 513us/step - loss: 602.4095\n",
      "Epoch 77/100\n",
      "4250/4250 [==============================] - 2s 435us/step - loss: 606.2206\n",
      "Epoch 78/100\n",
      "4250/4250 [==============================] - 2s 504us/step - loss: 603.9434\n",
      "Epoch 79/100\n",
      "4250/4250 [==============================] - 2s 482us/step - loss: 604.7905\n",
      "Epoch 80/100\n",
      "4250/4250 [==============================] - 2s 435us/step - loss: 610.3165\n",
      "Epoch 81/100\n",
      "4250/4250 [==============================] - 2s 431us/step - loss: 607.5557\n",
      "Epoch 82/100\n",
      "4250/4250 [==============================] - 2s 433us/step - loss: 609.6083\n",
      "Epoch 83/100\n",
      "4250/4250 [==============================] - 2s 441us/step - loss: 609.5176\n",
      "Epoch 84/100\n",
      "4250/4250 [==============================] - 2s 517us/step - loss: 602.7188\n",
      "Epoch 85/100\n",
      "4250/4250 [==============================] - 2s 493us/step - loss: 606.8511\n",
      "Epoch 86/100\n",
      "4250/4250 [==============================] - 2s 515us/step - loss: 604.1209\n",
      "Epoch 87/100\n",
      "4250/4250 [==============================] - 2s 502us/step - loss: 606.9324\n",
      "Epoch 88/100\n",
      "4250/4250 [==============================] - 2s 537us/step - loss: 605.6511\n",
      "Epoch 89/100\n",
      "4250/4250 [==============================] - 2s 535us/step - loss: 604.3733\n",
      "Epoch 90/100\n",
      "4250/4250 [==============================] - 2s 582us/step - loss: 604.1741\n",
      "Epoch 91/100\n",
      "4250/4250 [==============================] - 2s 531us/step - loss: 607.5266\n",
      "Epoch 92/100\n",
      "4250/4250 [==============================] - 2s 496us/step - loss: 607.1429\n"
     ]
    },
    {
     "name": "stdout",
     "output_type": "stream",
     "text": [
      "Epoch 93/100\n",
      "4250/4250 [==============================] - 2s 481us/step - loss: 609.4358\n",
      "Epoch 94/100\n",
      "4250/4250 [==============================] - 2s 584us/step - loss: 608.3622\n",
      "Epoch 95/100\n",
      "4250/4250 [==============================] - 3s 656us/step - loss: 608.0217\n",
      "Epoch 96/100\n",
      "4250/4250 [==============================] - 2s 541us/step - loss: 605.4060\n",
      "Epoch 97/100\n",
      "4250/4250 [==============================] - 2s 519us/step - loss: 606.1723\n",
      "Epoch 98/100\n",
      "4250/4250 [==============================] - 2s 566us/step - loss: 609.4331\n",
      "Epoch 99/100\n",
      "4250/4250 [==============================] - 3s 648us/step - loss: 609.6675\n",
      "Epoch 100/100\n",
      "4250/4250 [==============================] - 2s 542us/step - loss: 608.3821\n"
     ]
    },
    {
     "data": {
      "text/plain": [
       "<tensorflow.python.keras.callbacks.History at 0x22e9c988d00>"
      ]
     },
     "execution_count": 10,
     "metadata": {},
     "output_type": "execute_result"
    }
   ],
   "source": [
    "model.compile(loss=tf.keras.losses.MeanSquaredError(), optimizer='rmsprop')\n",
    "model.fit(training_train, target_train, epochs=100, batch_size=10)\n",
    "\n"
   ]
  },
  {
   "cell_type": "code",
   "execution_count": 12,
   "id": "2c848757",
   "metadata": {},
   "outputs": [
    {
     "name": "stdout",
     "output_type": "stream",
     "text": [
      "129.15801444057806\n"
     ]
    }
   ],
   "source": [
    "print(np.mean((model.predict(training_test) -target_test)**2))\n",
    "# If you need to run more epochs:\n",
    "\n",
    "#model.fit(training, target, epochs=20, batch_size=100)\n"
   ]
  },
  {
   "cell_type": "code",
   "execution_count": 13,
   "id": "f112cdef",
   "metadata": {},
   "outputs": [
    {
     "data": {
      "text/plain": [
       "[<matplotlib.lines.Line2D at 0x22e9a0059d0>]"
      ]
     },
     "execution_count": 13,
     "metadata": {},
     "output_type": "execute_result"
    },
    {
     "data": {
      "image/png": "[encoded data removed]",
      "text/plain": [
       "<Figure size 432x288 with 1 Axes>"
      ]
     },
     "metadata": {
      "needs_background": "light"
     },
     "output_type": "display_data"
    }
   ],
   "source": [
    "import matplotlib.pyplot as plt\n",
    "\n",
    "sortindex = list(range(len(target)))\n",
    "sortindex.sort(key = lambda x: target[x])\n",
    "plt.plot(target[sortindex], model.predict(training)[sortindex])"
   ]
  },
  {
   "cell_type": "code",
   "execution_count": 14,
   "id": "8a3d18c8",
   "metadata": {},
   "outputs": [
    {
     "name": "stdout",
     "output_type": "stream",
     "text": [
      "[[54.48413  ]\n",
      " [12.688856 ]\n",
      " [33.877113 ]\n",
      " ...\n",
      " [45.38488  ]\n",
      " [59.371925 ]\n",
      " [-1.9168183]]\n",
      "(50000, 72) (72, 200) (200,)\n",
      "(50000, 200) (200, 150) (150,)\n",
      "(50000, 150) (150, 75) (75,)\n"
     ]
    }
   ],
   "source": [
    "print(model.predict(training))\n",
    "\n",
    "w0 = model.layers[0].get_weights()\n",
    "w1 = model.layers[1].get_weights()\n",
    "w2 = model.layers[2].get_weights()\n",
    "w3 = model.layers[3].get_weights()\n",
    "\n",
    "\n",
    "\n",
    "\n",
    "def layerpredict(X, u):\n",
    "    w = u.copy()\n",
    "    print(X.shape, w[0].shape, w[1].shape)\n",
    "    a = np.zeros((X @ w[0]).shape)\n",
    "    n = w[1].shape[0]\n",
    "    w[1]= w[1].reshape(1,n)\n",
    "    a = X@ w[0] + w[1]\n",
    "    a = np.where(a>0, a, 0)\n",
    "    return a\n",
    "\n",
    "myoutput = layerpredict(layerpredict(layerpredict(training, w0),w1),w2) @ w3[0]+w3[1]\n"
   ]
  },
  {
   "cell_type": "code",
   "execution_count": null,
   "id": "c500005d",
   "metadata": {},
   "outputs": [],
   "source": [
    "print(myoutput)"
   ]
  },
  {
   "cell_type": "code",
   "execution_count": 15,
   "id": "5d7f795b",
   "metadata": {},
   "outputs": [],
   "source": [
    "import pickle \n",
    "W = [w0, w1, w2, w3]\n",
    "model_pkl_file = 'nngoat.pkl'\n",
    "with open(model_pkl_file, 'wb') as file:\n",
    "    pickle.dump(W, file)"
   ]
  },
  {
   "cell_type": "code",
   "execution_count": null,
   "id": "ef6dcdfb",
   "metadata": {},
   "outputs": [],
   "source": []
  }
 ],
 "metadata": {
  "kernelspec": {
   "display_name": "Python 3",
   "language": "python",
   "name": "python3"
  },
  "language_info": {
   "codemirror_mode": {
    "name": "ipython",
    "version": 3
   },
   "file_extension": ".py",
   "mimetype": "text/x-python",
   "name": "python",
   "nbconvert_exporter": "python",
   "pygments_lexer": "ipython3",
   "version": "3.8.5"
  }
 },
 "nbformat": 4,
 "nbformat_minor": 5
}
