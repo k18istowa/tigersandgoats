{
 "cells": [
  {
   "cell_type": "code",
   "execution_count": 1,
   "id": "8af985dc",
   "metadata": {},
   "outputs": [],
   "source": [
    "import numpy as np\n",
    "import numpy.random as npr\n",
    "\n",
    "import keras\n",
    "from keras import models\n",
    "from keras import layers\n",
    "\n",
    "import tensorflow as tf"
   ]
  },
  {
   "cell_type": "code",
   "execution_count": 2,
   "id": "f08785c2",
   "metadata": {},
   "outputs": [],
   "source": [
    "hg = __import__('game-fall23')"
   ]
  },
  {
   "cell_type": "code",
   "execution_count": 3,
   "id": "e909e909",
   "metadata": {},
   "outputs": [
    {
     "name": "stdout",
     "output_type": "stream",
     "text": [
      "game.state.whoseturn: Tiger\n",
      "Move possible for b0\n",
      "game.state.whoseturn: Goat\n"
     ]
    }
   ],
   "source": [
    "game = hg.Game()\n",
    "board = hg.Board(graphics=True)\n",
    "game.attachboard(board)"
   ]
  },
  {
   "cell_type": "code",
   "execution_count": 4,
   "id": "8045604c",
   "metadata": {},
   "outputs": [],
   "source": [
    "tiger = hg.greedyTiger(game)\n",
    "ngoat = hg.neuralGoat(game)\n",
    "game.addplayers(tiger, ngoat)"
   ]
  },
  {
   "cell_type": "code",
   "execution_count": null,
   "id": "69529c8c",
   "metadata": {},
   "outputs": [],
   "source": [
    "game.gamelogic()\n"
   ]
  },
  {
   "cell_type": "code",
   "execution_count": 5,
   "id": "90585a6b",
   "metadata": {},
   "outputs": [
    {
     "name": "stdout",
     "output_type": "stream",
     "text": [
      "['a1', 'a2', 'a3', 'b0', 'b1', 'b2', 'b3', 'b4', 'c1', 'c2', 'c3', 'c4', 'd1', 'd2', 'd3', 'd4', 'e1', 'e2', 'e3', 'e4', 'f1', 'f2', 'f3']\n",
      "['c1' 'e3' 'd1' 'b0' 'f3' 'e2' 'd2' 'b2' 'b4' 'a1' 'c4' 'b1' 'f1' 'd3'\n",
      " 'f2' 'e1' 'b3' 'c3' 'a3' 'e4' 'c2' 'd4' 'a2']\n"
     ]
    }
   ],
   "source": [
    "tempBoard = hg.Board(graphics = False)\n",
    "print(tempBoard.addresslist)\n",
    "randompositionorder = npr.choice(tempBoard.addresslist, size = (23,), replace=False)\n",
    "print(randompositionorder)    "
   ]
  },
  {
   "cell_type": "code",
   "execution_count": 6,
   "id": "bfe74cee",
   "metadata": {},
   "outputs": [],
   "source": [
    "train_size = 50000\n",
    "\n",
    "training = np.zeros((train_size,24*3))\n",
    "target = []\n",
    "for num in range(train_size):\n",
    "    tempBoard = hg.Board(graphics = False)\n",
    "    numtigers = 3\n",
    "    numgoats = npr.choice(range(12,16))\n",
    "    randompositionorder = npr.choice(tempBoard.addresslist,size=(23,),replace=False)\n",
    "    \n",
    "    for numtiger in range(numtigers):\n",
    "        tiger = hg.Tiger(tempBoard, numtiger)\n",
    "        tiger.place(randompositionorder[numtiger])\n",
    "    \n",
    "    for numgoat in range(numgoats):\n",
    "        goat = hg.Goat(tempBoard,numgoat)\n",
    "        goat.place(randompositionorder[numgoat+3])\n",
    "     \n",
    "    matrix = hg.Game.State.board2matrix(game,tempBoard)\n",
    "    value = hg.neuralGoat.valuefunc(ngoat, matrix)\n",
    "    place = npr.choice(range(2))\n",
    "    if numgoats == 15:\n",
    "        place = 0\n",
    "    if place:\n",
    "        numgoatsplaced = npr.choice(range(numgoats,15))\n",
    "    else:\n",
    "        numgoatsplaced = 15 \n",
    "     \n",
    "    if place:#in the place phase \n",
    "        place=[1,0,0]\n",
    "    else:\n",
    "        place=[0,1,0]\n",
    "        \n",
    "    place[2]=(numgoatsplaced-numgoats)\n",
    "    place = np.array(place).reshape(1,3)\n",
    "    state = np.vstack((matrix,place)).ravel()\n",
    "    training[num] = state\n",
    "    target.append(value)\n"
   ]
  },
  {
   "cell_type": "code",
   "execution_count": 7,
   "id": "5ba304ec",
   "metadata": {},
   "outputs": [
    {
     "name": "stdout",
     "output_type": "stream",
     "text": [
      "(50000, 72) (50000, 1)\n",
      "173.74433316206373 -402.009900990099\n"
     ]
    }
   ],
   "source": [
    "training = training.astype(np.float32)\n",
    "\n",
    "target = np.array(target).reshape(train_size,1)\n",
    "print(training.shape, target.shape)\n",
    "print(np.max(target), np.min(target))\n"
   ]
  },
  {
   "cell_type": "code",
   "execution_count": 9,
   "id": "412f635a",
   "metadata": {},
   "outputs": [
    {
     "name": "stdout",
     "output_type": "stream",
     "text": [
      "Model: \"sequential_1\"\n",
      "_________________________________________________________________\n",
      "Layer (type)                 Output Shape              Param #   \n",
      "=================================================================\n",
      "input_layer (Dense)          (None, 200)               14600     \n",
      "_________________________________________________________________\n",
      "hidden_layer_1 (Dense)       (None, 150)               30150     \n",
      "_________________________________________________________________\n",
      "hidden_layer_2 (Dense)       (None, 75)                11325     \n",
      "_________________________________________________________________\n",
      "output_layer (Dense)         (None, 1)                 76        \n",
      "=================================================================\n",
      "Total params: 56,151\n",
      "Trainable params: 56,151\n",
      "Non-trainable params: 0\n",
      "_________________________________________________________________\n"
     ]
    }
   ],
   "source": [
    "from sklearn.utils import shuffle\n",
    "from sklearn.model_selection import train_test_split\n",
    "from keras.optimizers import SGD, Nadam\n",
    "\n",
    "\n",
    "training, target = shuffle(training, target)\n",
    "\n",
    "training_train, training_test, target_train, target_test = train_test_split(training, target, test_size=0.15, random_state=0)\n",
    "\n",
    "initializer = tf.keras.initializers.RandomNormal(stddev = 1)\n",
    "\n",
    "model = keras.Sequential()\n",
    "model.add(keras.Input(shape=(24*3,)))\n",
    "model.add(layers.Dense(200, \n",
    "                       activation=\"relu\", \n",
    "                       name=\"input_layer\",\n",
    "                       kernel_regularizer=tf.keras.regularizers.L1(.5),\n",
    "                       kernel_initializer=tf.keras.initializers.RandomNormal(stddev= .5)))\n",
    "model.add(layers.Dense(150,\n",
    "                       activation=\"relu\",\n",
    "                       name=\"hidden_layer_1\",\n",
    "                       kernel_initializer=tf.keras.initializers.RandomNormal(stddev = .5)))\n",
    "model.add(layers.Dense(75,\n",
    "                       activation=\"relu\",\n",
    "                       name=\"hidden_layer_2\",\n",
    "                       kernel_initializer=tf.keras.initializers.RandomNormal(stddev = .5)))\n",
    "model.add(layers.Dense(1,\n",
    "                       name=\"output_layer\",\n",
    "                       kernel_initializer=tf.keras.initializers.RandomNormal(stddev = .5)))\n",
    "model.summary()\n",
    "\n",
    "\n"
   ]
  },
  {
   "cell_type": "code",
   "execution_count": 10,
   "id": "4beef1d1",
   "metadata": {},
   "outputs": [
    {
     "name": "stdout",
     "output_type": "stream",
     "text": [
      "Epoch 1/100\n",
      "4250/4250 [==============================] - 3s 589us/step - loss: 4549.2222\n",
      "Epoch 2/100\n",
      "4250/4250 [==============================] - 3s 627us/step - loss: 3124.3018\n",
      "Epoch 3/100\n",
      "4250/4250 [==============================] - 3s 669us/step - loss: 2549.9265\n",
      "Epoch 4/100\n",
      "4250/4250 [==============================] - 3s 607us/step - loss: 2177.9209\n",
      "Epoch 5/100\n",
      "4250/4250 [==============================] - 3s 625us/step - loss: 1913.0870\n",
      "Epoch 6/100\n",
      "4250/4250 [==============================] - 3s 608us/step - loss: 1710.1570\n",
      "Epoch 7/100\n",
      "4250/4250 [==============================] - 3s 670us/step - loss: 1556.5695\n",
      "Epoch 8/100\n",
      "4250/4250 [==============================] - 3s 597us/step - loss: 1433.3755\n",
      "Epoch 9/100\n",
      "4250/4250 [==============================] - 3s 589us/step - loss: 1326.8988\n",
      "Epoch 10/100\n",
      "4250/4250 [==============================] - 3s 621us/step - loss: 1241.6029\n",
      "Epoch 11/100\n",
      "4250/4250 [==============================] - 3s 602us/step - loss: 1168.2368\n",
      "Epoch 12/100\n",
      "4250/4250 [==============================] - 2s 582us/step - loss: 1106.6270\n",
      "Epoch 13/100\n",
      "4250/4250 [==============================] - 3s 644us/step - loss: 1053.1660\n",
      "Epoch 14/100\n",
      "4250/4250 [==============================] - 2s 587us/step - loss: 1004.2250\n",
      "Epoch 15/100\n",
      "4250/4250 [==============================] - 3s 600us/step - loss: 966.3369\n",
      "Epoch 16/100\n",
      "4250/4250 [==============================] - 3s 625us/step - loss: 931.3542\n",
      "Epoch 17/100\n",
      "4250/4250 [==============================] - 3s 617us/step - loss: 894.8497\n",
      "Epoch 18/100\n",
      "4250/4250 [==============================] - 3s 610us/step - loss: 871.0960\n",
      "Epoch 19/100\n",
      "4250/4250 [==============================] - 3s 700us/step - loss: 845.9333\n",
      "Epoch 20/100\n",
      "4250/4250 [==============================] - 3s 600us/step - loss: 826.1418\n",
      "Epoch 21/100\n",
      "4250/4250 [==============================] - 3s 610us/step - loss: 807.4542\n",
      "Epoch 22/100\n",
      "4250/4250 [==============================] - 3s 610us/step - loss: 787.9652\n",
      "Epoch 23/100\n",
      "4250/4250 [==============================] - 3s 664us/step - loss: 775.4525\n",
      "Epoch 24/100\n",
      "4250/4250 [==============================] - 3s 608us/step - loss: 759.7946\n",
      "Epoch 25/100\n",
      "4250/4250 [==============================] - 3s 619us/step - loss: 742.3788\n",
      "Epoch 26/100\n",
      "4250/4250 [==============================] - 3s 676us/step - loss: 738.5021\n",
      "Epoch 27/100\n",
      "4250/4250 [==============================] - 3s 612us/step - loss: 727.6611\n",
      "Epoch 28/100\n",
      "4250/4250 [==============================] - 3s 668us/step - loss: 716.3443\n",
      "Epoch 29/100\n",
      "4250/4250 [==============================] - 3s 602us/step - loss: 708.1664\n",
      "Epoch 30/100\n",
      "4250/4250 [==============================] - 3s 640us/step - loss: 699.3450\n",
      "Epoch 31/100\n",
      "4250/4250 [==============================] - 3s 606us/step - loss: 689.4905\n",
      "Epoch 32/100\n",
      "4250/4250 [==============================] - 3s 612us/step - loss: 681.7579\n",
      "Epoch 33/100\n",
      "4250/4250 [==============================] - 3s 678us/step - loss: 685.5004\n",
      "Epoch 34/100\n",
      "4250/4250 [==============================] - 3s 608us/step - loss: 678.0158\n",
      "Epoch 35/100\n",
      "4250/4250 [==============================] - 3s 706us/step - loss: 669.1531\n",
      "Epoch 36/100\n",
      "4250/4250 [==============================] - 3s 617us/step - loss: 667.3788\n",
      "Epoch 37/100\n",
      "4250/4250 [==============================] - 3s 612us/step - loss: 667.5475\n",
      "Epoch 38/100\n",
      "4250/4250 [==============================] - 3s 648us/step - loss: 656.6717\n",
      "Epoch 39/100\n",
      "4250/4250 [==============================] - 3s 608us/step - loss: 661.0726\n",
      "Epoch 40/100\n",
      "4250/4250 [==============================] - 3s 696us/step - loss: 648.3455\n",
      "Epoch 41/100\n",
      "4250/4250 [==============================] - 3s 642us/step - loss: 647.5872\n",
      "Epoch 42/100\n",
      "4250/4250 [==============================] - 3s 627us/step - loss: 651.3603\n",
      "Epoch 43/100\n",
      "4250/4250 [==============================] - 3s 619us/step - loss: 642.8282\n",
      "Epoch 44/100\n",
      "4250/4250 [==============================] - 3s 623us/step - loss: 642.6988\n",
      "Epoch 45/100\n",
      "4250/4250 [==============================] - 3s 619us/step - loss: 642.2039\n",
      "Epoch 46/100\n",
      "4250/4250 [==============================] - 3s 616us/step - loss: 639.0309\n",
      "Epoch 47/100\n",
      "4250/4250 [==============================] - 3s 616us/step - loss: 641.0012\n",
      "Epoch 48/100\n",
      "4250/4250 [==============================] - 3s 657us/step - loss: 640.5709\n",
      "Epoch 49/100\n",
      "4250/4250 [==============================] - 3s 617us/step - loss: 636.0453\n",
      "Epoch 50/100\n",
      "4250/4250 [==============================] - 4s 977us/step - loss: 634.8300\n",
      "Epoch 51/100\n",
      "4250/4250 [==============================] - 3s 723us/step - loss: 630.9653\n",
      "Epoch 52/100\n",
      "4250/4250 [==============================] - 3s 650us/step - loss: 631.6008\n",
      "Epoch 53/100\n",
      "4250/4250 [==============================] - 2s 566us/step - loss: 625.9913\n",
      "Epoch 54/100\n",
      "4250/4250 [==============================] - 2s 565us/step - loss: 625.6193\n",
      "Epoch 55/100\n",
      "4250/4250 [==============================] - 3s 604us/step - loss: 630.8115\n",
      "Epoch 56/100\n",
      "4250/4250 [==============================] - 3s 595us/step - loss: 628.4579\n",
      "Epoch 57/100\n",
      "4250/4250 [==============================] - 3s 600us/step - loss: 630.5536\n",
      "Epoch 58/100\n",
      "4250/4250 [==============================] - 3s 632us/step - loss: 628.8488\n",
      "Epoch 59/100\n",
      "4250/4250 [==============================] - 3s 606us/step - loss: 625.8804\n",
      "Epoch 60/100\n",
      "4250/4250 [==============================] - 3s 617us/step - loss: 630.4944\n",
      "Epoch 61/100\n",
      "4250/4250 [==============================] - ETA: 0s - loss: 624.157 - 3s 621us/step - loss: 625.2563\n",
      "Epoch 62/100\n",
      "4250/4250 [==============================] - 3s 599us/step - loss: 629.9402\n",
      "Epoch 63/100\n",
      "4250/4250 [==============================] - 3s 617us/step - loss: 630.7732\n",
      "Epoch 64/100\n",
      "4250/4250 [==============================] - 3s 593us/step - loss: 627.3090\n",
      "Epoch 65/100\n",
      "4250/4250 [==============================] - 2s 582us/step - loss: 629.9732\n",
      "Epoch 66/100\n",
      "4250/4250 [==============================] - 3s 600us/step - loss: 633.3849\n",
      "Epoch 67/100\n",
      "4250/4250 [==============================] - 3s 600us/step - loss: 632.1329\n",
      "Epoch 68/100\n",
      "4250/4250 [==============================] - 3s 653us/step - loss: 633.6115\n",
      "Epoch 69/100\n",
      "4250/4250 [==============================] - 3s 604us/step - loss: 635.0669\n",
      "Epoch 70/100\n",
      "4250/4250 [==============================] - 3s 664us/step - loss: 633.3897\n",
      "Epoch 71/100\n",
      "4250/4250 [==============================] - 3s 610us/step - loss: 634.3552\n",
      "Epoch 72/100\n",
      "4250/4250 [==============================] - 3s 663us/step - loss: 636.3357\n",
      "Epoch 73/100\n",
      "4250/4250 [==============================] - 3s 631us/step - loss: 636.6169\n",
      "Epoch 74/100\n",
      "4250/4250 [==============================] - 3s 636us/step - loss: 639.4790\n",
      "Epoch 75/100\n",
      "4250/4250 [==============================] - 3s 636us/step - loss: 637.9581\n",
      "Epoch 76/100\n",
      "4250/4250 [==============================] - 3s 644us/step - loss: 642.2630\n",
      "Epoch 77/100\n",
      "4250/4250 [==============================] - 3s 696us/step - loss: 639.3547\n",
      "Epoch 78/100\n",
      "4250/4250 [==============================] - 3s 663us/step - loss: 640.2901\n",
      "Epoch 79/100\n",
      "4250/4250 [==============================] - 3s 664us/step - loss: 640.6953\n",
      "Epoch 80/100\n",
      "4250/4250 [==============================] - 3s 651us/step - loss: 641.6130\n",
      "Epoch 81/100\n",
      "4250/4250 [==============================] - 3s 651us/step - loss: 642.3814\n",
      "Epoch 82/100\n",
      "4250/4250 [==============================] - 3s 728us/step - loss: 640.9292\n",
      "Epoch 83/100\n",
      "4250/4250 [==============================] - 3s 722us/step - loss: 647.6066\n",
      "Epoch 84/100\n",
      "4250/4250 [==============================] - 3s 649us/step - loss: 644.3661\n",
      "Epoch 85/100\n",
      "4250/4250 [==============================] - 3s 766us/step - loss: 643.4918\n",
      "Epoch 86/100\n",
      "4250/4250 [==============================] - 3s 685us/step - loss: 646.0020\n",
      "Epoch 87/100\n",
      "4250/4250 [==============================] - 3s 644us/step - loss: 644.1722\n",
      "Epoch 88/100\n",
      "4250/4250 [==============================] - 3s 659us/step - loss: 646.8450\n",
      "Epoch 89/100\n",
      "4250/4250 [==============================] - 3s 689us/step - loss: 648.1970\n",
      "Epoch 90/100\n",
      "4250/4250 [==============================] - 3s 657us/step - loss: 649.1221\n",
      "Epoch 91/100\n",
      "4250/4250 [==============================] - 3s 640us/step - loss: 649.0756\n",
      "Epoch 92/100\n"
     ]
    },
    {
     "name": "stdout",
     "output_type": "stream",
     "text": [
      "4250/4250 [==============================] - 2s 580us/step - loss: 650.0653\n",
      "Epoch 93/100\n",
      "4250/4250 [==============================] - 2s 574us/step - loss: 654.2599\n",
      "Epoch 94/100\n",
      "4250/4250 [==============================] - 3s 591us/step - loss: 657.0467\n",
      "Epoch 95/100\n",
      "4250/4250 [==============================] - 2s 570us/step - loss: 653.9971\n",
      "Epoch 96/100\n",
      "4250/4250 [==============================] - 3s 619us/step - loss: 654.1021\n",
      "Epoch 97/100\n",
      "4250/4250 [==============================] - 2s 586us/step - loss: 656.0568\n",
      "Epoch 98/100\n",
      "4250/4250 [==============================] - 3s 600us/step - loss: 659.2428\n",
      "Epoch 99/100\n",
      "4250/4250 [==============================] - 3s 593us/step - loss: 659.7434\n",
      "Epoch 100/100\n",
      "4250/4250 [==============================] - 3s 783us/step - loss: 661.0264\n"
     ]
    },
    {
     "data": {
      "text/plain": [
       "<tensorflow.python.keras.callbacks.History at 0x1b88da38b50>"
      ]
     },
     "execution_count": 10,
     "metadata": {},
     "output_type": "execute_result"
    }
   ],
   "source": [
    "model.compile(loss=tf.keras.losses.MeanSquaredError(), optimizer='rmsprop')\n",
    "model.fit(training_train, target_train, epochs=100, batch_size=10)\n",
    "\n"
   ]
  },
  {
   "cell_type": "code",
   "execution_count": 11,
   "id": "2c848757",
   "metadata": {},
   "outputs": [
    {
     "name": "stdout",
     "output_type": "stream",
     "text": [
      "398.90365469018343\n"
     ]
    }
   ],
   "source": [
    "print(np.mean((model.predict(training_test) -target_test)**2))\n",
    "# If you need to run more epochs:\n",
    "\n",
    "#model.fit(training, target, epochs=20, batch_size=100)\n"
   ]
  },
  {
   "cell_type": "code",
   "execution_count": 12,
   "id": "f112cdef",
   "metadata": {},
   "outputs": [
    {
     "data": {
      "text/plain": [
       "[<matplotlib.lines.Line2D at 0x1b8898d19d0>]"
      ]
     },
     "execution_count": 12,
     "metadata": {},
     "output_type": "execute_result"
    },
    {
     "data": {
      "image/png": "[encoded data removed]",
      "text/plain": [
       "<Figure size 432x288 with 1 Axes>"
      ]
     },
     "metadata": {
      "needs_background": "light"
     },
     "output_type": "display_data"
    }
   ],
   "source": [
    "import matplotlib.pyplot as plt\n",
    "\n",
    "sortindex = list(range(len(target)))\n",
    "sortindex.sort(key = lambda x: target[x])\n",
    "plt.plot(target[sortindex], model.predict(training)[sortindex])"
   ]
  },
  {
   "cell_type": "code",
   "execution_count": 13,
   "id": "8a3d18c8",
   "metadata": {},
   "outputs": [
    {
     "name": "stdout",
     "output_type": "stream",
     "text": [
      "[[-128.03133 ]\n",
      " [  10.413671]\n",
      " [  28.91893 ]\n",
      " ...\n",
      " [ -83.276405]\n",
      " [ -43.201195]\n",
      " [  22.961678]]\n",
      "(50000, 72) (72, 200) (200,)\n",
      "(50000, 200) (200, 150) (150,)\n",
      "(50000, 150) (150, 75) (75,)\n"
     ]
    }
   ],
   "source": [
    "print(model.predict(training))\n",
    "\n",
    "w0 = model.layers[0].get_weights()\n",
    "w1 = model.layers[1].get_weights()\n",
    "w2 = model.layers[2].get_weights()\n",
    "w3 = model.layers[3].get_weights()\n",
    "\n",
    "\n",
    "\n",
    "\n",
    "def layerpredict(X, u):\n",
    "    w = u.copy()\n",
    "    print(X.shape, w[0].shape, w[1].shape)\n",
    "    a = np.zeros((X @ w[0]).shape)\n",
    "    n = w[1].shape[0]\n",
    "    w[1]= w[1].reshape(1,n)\n",
    "    a = X@ w[0] + w[1]\n",
    "    a = np.where(a>0, a, 0)\n",
    "    return a\n",
    "\n",
    "myoutput = layerpredict(layerpredict(layerpredict(training, w0),w1),w2) @ w3[0]+w3[1]\n"
   ]
  },
  {
   "cell_type": "code",
   "execution_count": null,
   "id": "c500005d",
   "metadata": {},
   "outputs": [],
   "source": [
    "print(myoutput)"
   ]
  },
  {
   "cell_type": "code",
   "execution_count": 14,
   "id": "5d7f795b",
   "metadata": {},
   "outputs": [],
   "source": [
    "import pickle \n",
    "W = [w0, w1, w2, w3]\n",
    "model_pkl_file = 'nngoat.pkl'\n",
    "with open(model_pkl_file, 'wb') as file:\n",
    "    pickle.dump(W, file)"
   ]
  },
  {
   "cell_type": "code",
   "execution_count": null,
   "id": "ef6dcdfb",
   "metadata": {},
   "outputs": [],
   "source": []
  }
 ],
 "metadata": {
  "kernelspec": {
   "display_name": "Python 3",
   "language": "python",
   "name": "python3"
  },
  "language_info": {
   "codemirror_mode": {
    "name": "ipython",
    "version": 3
   },
   "file_extension": ".py",
   "mimetype": "text/x-python",
   "name": "python",
   "nbconvert_exporter": "python",
   "pygments_lexer": "ipython3",
   "version": "3.8.5"
  }
 },
 "nbformat": 4,
 "nbformat_minor": 5
}
